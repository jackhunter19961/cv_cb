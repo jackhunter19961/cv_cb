{
  "nbformat": 4,
  "nbformat_minor": 0,
  "metadata": {
    "colab": {
      "name": "Flasapp_CB.ipynb",
      "provenance": []
    },
    "kernelspec": {
      "name": "python3",
      "display_name": "Python 3"
    },
    "language_info": {
      "name": "python"
    }
  },
  "cells": [
    {
      "cell_type": "code",
      "metadata": {
        "colab": {
          "base_uri": "https://localhost:8080/"
        },
        "id": "s7MdaxHEjxXj",
        "outputId": "4fd7c3bc-bb68-4d5d-8982-14a218da2709"
      },
      "source": [
        "# libraries\n",
        "import random\n",
        "import numpy as np\n",
        "import pickle\n",
        "import json\n",
        "from flask import Flask, render_template, request\n",
        "#from flask_ngrok import run_with_ngrok\n",
        "import nltk\n",
        "from keras.models import load_model\n",
        "from nltk.stem import WordNetLemmatizer\n",
        "lemmatizer = WordNetLemmatizer()\n",
        "\n",
        "\n",
        "# chat initialization\n",
        "model = load_model(\"chatbot_model.h5\")\n",
        "intents = json.loads(open(\"intents.json\").read())\n",
        "words = pickle.load(open(\"words.pkl\", \"rb\"))\n",
        "classes = pickle.load(open(\"classes.pkl\", \"rb\"))\n",
        "\n",
        "app = Flask(__name__)\n",
        "\n",
        "@app.route(\"/\")\n",
        "def home():\n",
        "    return render_template(\"index.html\")\n",
        "\n",
        "\n",
        "@app.route(\"/get\", methods=[\"POST\"])\n",
        "def chatbot_response():\n",
        "    msg = request.form[\"msg\"]\n",
        "    #checks is a user has given a name, in order to give a personalized feedback\n",
        "    if msg.startswith('my name is'):\n",
        "        name = msg[11:]\n",
        "        ints = predict_class(msg, model)\n",
        "        res1 = getResponse(ints, intents)\n",
        "        res =res1.replace(\"{n}\",name)\n",
        "    elif msg.startswith('hi my name is'):\n",
        "        name = msg[14:]\n",
        "        ints = predict_class(msg, model)\n",
        "        res1 = getResponse(ints, intents)\n",
        "        res =res1.replace(\"{n}\",name)\n",
        "    #if no name is passed execute normally\n",
        "    else:\n",
        "        ints = predict_class(msg, model)\n",
        "        res = getResponse(ints, intents)\n",
        "    return res\n",
        "\n",
        "\n",
        "# chat functionalities\n",
        "def clean_up_sentence(sentence):\n",
        "    sentence_words = nltk.word_tokenize(sentence)\n",
        "    sentence_words = [lemmatizer.lemmatize(word.lower()) for word in sentence_words]\n",
        "    return sentence_words\n",
        "\n",
        "\n",
        "# return bag of words array: 0 or 1 for each word in the bag that exists in the sentence\n",
        "def bow(sentence, words, show_details=True):\n",
        "    # tokenize the pattern\n",
        "    sentence_words = clean_up_sentence(sentence)\n",
        "    # bag of words - matrix of N words, vocabulary matrix\n",
        "    bag = [0] * len(words)\n",
        "    for s in sentence_words:\n",
        "        for i, w in enumerate(words):\n",
        "            if w == s:\n",
        "                # assign 1 if current word is in the vocabulary position\n",
        "                bag[i] = 1\n",
        "                if show_details:\n",
        "                    print(\"found in bag: %s\" % w)\n",
        "    return np.array(bag)\n",
        "\n",
        "\n",
        "def predict_class(sentence, model):\n",
        "    # filter out predictions below a threshold\n",
        "    p = bow(sentence, words, show_details=False)\n",
        "    res = model.predict(np.array([p]))[0]\n",
        "    ERROR_THRESHOLD = 0.25\n",
        "    results = [[i, r] for i, r in enumerate(res) if r > ERROR_THRESHOLD]\n",
        "    # sort by strength of probability\n",
        "    results.sort(key=lambda x: x[1], reverse=True)\n",
        "    return_list = []\n",
        "    for r in results:\n",
        "        return_list.append({\"intent\": classes[r[0]], \"probability\": str(r[1])})\n",
        "    return return_list\n",
        "\n",
        "\n",
        "def getResponse(ints, intents_json):\n",
        "    tag = ints[0][\"intent\"]\n",
        "    list_of_intents = intents_json[\"intents\"]\n",
        "    for i in list_of_intents:\n",
        "        if i[\"tag\"] == tag:\n",
        "            result = random.choice(i[\"responses\"])\n",
        "            break\n",
        "    return result\n",
        "\n",
        "\n",
        "if __name__ == \"__main__\":\n",
        "    app.run()"
      ],
      "execution_count": 3,
      "outputs": [
        {
          "output_type": "stream",
          "text": [
            " * Serving Flask app \"__main__\" (lazy loading)\n",
            " * Environment: production\n",
            "\u001b[31m   WARNING: This is a development server. Do not use it in a production deployment.\u001b[0m\n",
            "\u001b[2m   Use a production WSGI server instead.\u001b[0m\n",
            " * Debug mode: off\n"
          ],
          "name": "stdout"
        },
        {
          "output_type": "stream",
          "text": [
            " * Running on http://127.0.0.1:5000/ (Press CTRL+C to quit)\n"
          ],
          "name": "stderr"
        }
      ]
    }
  ]
}